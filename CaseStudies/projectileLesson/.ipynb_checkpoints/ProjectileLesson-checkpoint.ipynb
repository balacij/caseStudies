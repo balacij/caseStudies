{
 "cells": [
  {
   "cell_type": "markdown",
   "id": "increasing-multimedia",
   "metadata": {},
   "source": [
    "# Rectilinear Kinematics: Continuous Motion (Recap)\n",
    "\n",
    "As covered previously, the equations relating velocity ($v$), position ($p$) and time ($t$) for motion in one dimension with constant acceleration ($a^c$) are as follows:\n",
    "\n",
    "$$v = v^i + a^c t \\label{Eq_rectVel}$$\n",
    "$$p = p^i + v^i t + \\frac{1}{2} a^c t^2 \\label{Eq_rectPos}$$\n",
    "$$v^2 = (v^i)^2 + 2 a^c (p - p^i) \\label{Eq_rectNoTime}$$ \n",
    "\n",
    "Only two of these equations are independent, since the third equation can always be derived from the other two.  (Equation $\\ref{Eq_rectNoTime}$ is not in the Projectile SRS.)\n"
   ]
  },
  {
   "cell_type": "markdown",
   "id": "cooked-reduction",
   "metadata": {},
   "source": [
    "# 12.6 Motion of a Projectile\n",
    "\n",
    "The free flight motion of a projectile is often studied in terms of its rectangular components, since the projectile's acceleration *always* acts in the vertical direciton.  To illustrate the kinematic analysis, consider a projectile launched at point $(x_0, y_0)$, as shown in Figure (hyperref here?).  The path is defined in the $x-y$ plane such that the initial velocity is $\\mathbf{v}_0$, having components $v_x^i$ and $v_y^i$.  When air resistance is neglected, the only force acting on the projectile is its weight, which causes the projectile to have a *constant downward acceleration* of approximately $a^c = g = 9.81 \\text{m}/\\text{s}^2$ or $g = 32.2 \\text{ft}/\\text{s}^2$.[^1] (footnotes don't seem to be working on my Mac?)\n",
    "\n",
    "[^1]: This assumes that the earth's gravitational field does not vary with altitude"
   ]
  },
  {
   "cell_type": "markdown",
   "id": "ultimate-guitar",
   "metadata": {},
   "source": [
    "![title](Launch.jpg)"
   ]
  },
  {
   "cell_type": "markdown",
   "id": "included-function",
   "metadata": {},
   "source": [
    "## Horizontal Motion\n",
    "\n",
    "For projectile motion the acceleration in the horizontal direction is constant and equal to zero ($a_x = 0$).  This value can be substituted in the equations for constant acceleration given above (provide a hyperref?) to yield the following:\n",
    "\n",
    "From Equation $\\ref{Eq_rectVel}$: $v_x = v_x^i$\n",
    "\n",
    "From Equation $\\ref{Eq_rectPos}$: $p_x = p_x^i + v_x^i t$\n",
    "\n",
    "From Equation $\\ref{Eq_rectNoTime}$: $v_x = v_x^i$\n",
    "\n"
   ]
  },
  {
   "cell_type": "markdown",
   "id": "heated-zoning",
   "metadata": {},
   "source": [
    "## Vertical Motion\n",
    "\n",
    "Since the positive $y$ axis is directed upward, the acceleration in the vertical direction is $a_y = -g$.  This value can be substituted in the equations for constant acceleration given above (provide a hyperref?) to yield the following:\n",
    "\n",
    "From Equation $\\ref{Eq_rectVel}$: $v_y = v_y^i - g t$\n",
    "\n",
    "From Equation $\\ref{Eq_rectPos}$: $p_y = p_y^i + v_y^i t - \\frac{1}{2} g t^2$\n",
    "\n",
    "From Equation $\\ref{Eq_rectNoTime}$: $v_y^2 = (v_y^i)^2 - 2 g ( p_y - p_y^i)$\n",
    "\n",
    "Recall that the last equation can be formulated on the basis of eliminationg the time $t$ between the first two equations , and therefore *only two of the above three equations are independent of one another*."
   ]
  },
  {
   "cell_type": "markdown",
   "id": "shared-oxygen",
   "metadata": {},
   "source": [
    "To summarize, problems involving the motion of a p rojectile can have at most three unknowns since only three independent equations can be written: that is, *one* equation in the *horizontal direction* and *two* in the *vertical direction*.  Once $v_x$ and $v)y$ are obtained, the resultant velocity $\\mathbf{v}$, which is *always tangent* to the path, is defined by the *vector sum* as shown in Figure (hyperref to above figure)."
   ]
  },
  {
   "cell_type": "markdown",
   "id": "amber-objective",
   "metadata": {},
   "source": [
    "## Procedure for Analysis\n",
    "\n",
    "Given in Hibbler, might include it."
   ]
  },
  {
   "cell_type": "markdown",
   "id": "interior-musician",
   "metadata": {},
   "source": [
    "## Example (Sack Slides Off of Ramp)\n",
    "\n",
    "A sack slides off the ramp, shown in Figure ?, with a horizontal velocity of 12 m/s.  If the hieght of the ramp is 6 m from the floor, determine the time needed for the sack to strike the floor and the range $R$ where sacks begin to pile up."
   ]
  },
  {
   "cell_type": "code",
   "execution_count": 8,
   "id": "cross-december",
   "metadata": {},
   "outputs": [
    {
     "name": "stdout",
     "output_type": "stream",
     "text": [
      "t =  1.106002527218662 s\n"
     ]
    }
   ],
   "source": [
    "import math\n",
    "py = -6\n",
    "pyi = 0\n",
    "vyi = 0\n",
    "ac = -9.81\n",
    "t = math.sqrt((py - pyi - vyi)/(0.5*(-9.81)))\n",
    "print(\"t = \", t, \"s\")"
   ]
  },
  {
   "cell_type": "code",
   "execution_count": null,
   "id": "statewide-syndicate",
   "metadata": {},
   "outputs": [],
   "source": []
  }
 ],
 "metadata": {
  "kernelspec": {
   "display_name": "Python 3",
   "language": "python",
   "name": "python3"
  },
  "language_info": {
   "codemirror_mode": {
    "name": "ipython",
    "version": 3
   },
   "file_extension": ".py",
   "mimetype": "text/x-python",
   "name": "python",
   "nbconvert_exporter": "python",
   "pygments_lexer": "ipython3",
   "version": "3.9.1"
  },
  "latex_envs": {
   "LaTeX_envs_menu_present": false,
   "autoclose": false,
   "autocomplete": false,
   "bibliofile": "biblio.bib",
   "cite_by": "apalike",
   "current_citInitial": 1,
   "eqLabelWithNumbers": true,
   "eqNumInitial": 1,
   "hotkeys": {
    "equation": "Ctrl-E",
    "itemize": "Ctrl-I"
   },
   "labels_anchors": false,
   "latex_user_defs": false,
   "report_style_numbering": false,
   "user_envs_cfg": false
  }
 },
 "nbformat": 4,
 "nbformat_minor": 5
}
