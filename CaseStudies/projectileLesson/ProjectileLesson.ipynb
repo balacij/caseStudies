{
 "cells": [
  {
   "cell_type": "markdown",
   "id": "roman-walnut",
   "metadata": {},
   "source": [
    "# Projectile Motion Lesson by Spencer Smith"
   ]
  },
  {
   "cell_type": "markdown",
   "id": "consistent-berry",
   "metadata": {},
   "source": [
    "One of the first topics typically taught when students are introduced to the study of dynamics is projectile motion.  Projectile motion is a good starting point for two reasons:\n",
    "\n",
    "1. The model developed is relatively simple because it only involves kinematic quantities, not kinetics.  Kinematics focuses on the geometrics aspects of motion, while kinetics introduces the concept of forces.  \n",
    "\n",
    "2. Projectile motion has practical applications for tracking the motion of launched or thrown objects.\n",
    "\n",
    "The presentation below is based on Section 12.6 (Motion of a Projectile) from the classic Hibbler text \"Engineering Mechanics Dynamnics, 10th edition\"."
   ]
  },
  {
   "cell_type": "markdown",
   "id": "spatial-burst",
   "metadata": {},
   "source": [
    "# Rectilinear Kinematics: Continuous Motion (Recap)\n",
    "\n",
    "As covered previously, the equations relating velocity ($v$), position ($p$) and time ($t$) for motion in one dimension with constant acceleration ($a^c$) are as follows:\n",
    "\n",
    "$$v = v^i + a^c t \\label{Eq_rectVel}\\tag{Eq_rectVel}$$ <a name=\"Eq_rectVel\"></a> \n",
    "$$p = p^i + v^i t + \\frac{1}{2} a^c t^2 \\label{Eq_rectPos}\\tag{Eq_rectPos}$$ <a name=\"Eq_rectPos\"></a>\n",
    "$$v^2 = (v^i)^2 + 2 a^c (p - p^i) \\label{Eq_rectNoTime}\\tag{Eq_rectNoTime}$$ <a name=\"Eq_rectNoTime\"></a>\n",
    "\n",
    "where $v^i$ and $p^i$ are the initial velocity and position, respectively. \n",
    "\n",
    "Only two of these equations are independent, since the third equation can always be derived from the other two.  [Equation $\\ref{Eq_rectNoTime}$ is not in the Projectile SRS.]\n"
   ]
  },
  {
   "cell_type": "markdown",
   "id": "sought-reader",
   "metadata": {},
   "source": [
    "# 12.6 Motion of a Projectile\n",
    "\n",
    "The free flight motion of a projectile is often studied in terms of its rectangular components, since the projectile's acceleration *always* acts in the vertical direciton.  To illustrate the kinematic analysis, consider a projectile launched at point $(x^i, y^i)$, as shown in Figure [hyperref here?].  The path is defined in the $x-y$ plane such that the initial velocity is $\\mathbf{v}^i$, having components $v_x^i$ and $v_y^i$.  When air resistance is neglected, the only force acting on the projectile is its weight, which causes the projectile to have a *constant downward acceleration* of approximately $a^c = g = 9.81 \\text{m}/\\text{s}^2$ or $g = 32.2 \\text{ft}/\\text{s}^2$.[^1] [footnotes don't seem to be working on my Mac?]\n",
    "\n",
    "[^1]: This assumes that the earth's gravitational field does not vary with altitude"
   ]
  },
  {
   "cell_type": "markdown",
   "id": "front-terminology",
   "metadata": {},
   "source": [
    "![Coordinate System and Definition of Symbols](CoordSystAndAssumpts.png)"
   ]
  },
  {
   "cell_type": "markdown",
   "id": "further-programming",
   "metadata": {},
   "source": [
    "The equations for rectilinear kinematics given above (ref) are in one dimension.  These equations can be applied for both the vertical motion and the horizontal directions, as follows:"
   ]
  },
  {
   "cell_type": "markdown",
   "id": "contemporary-roots",
   "metadata": {},
   "source": [
    "## Horizontal Motion\n",
    "\n",
    "For projectile motion the acceleration in the horizontal direction is constant and equal to zero ($a_x = 0$).  This value can be substituted in the equations for constant acceleration given above (provide a hyperref?) to yield the following:\n",
    "\n",
    "From Equation [Eq_rectVel](#mjx-eqn-Eq_rectVel): $v_x = v_x^i$\n",
    "\n",
    "From Equation [Eq_rectPos](#mjx-eqn-Eq_rectPos): $p_x = p_x^i + v_x^i t$\n",
    "\n",
    "From Equation [Eq_rectNoTime](#mjx-eqn-Eq_rectNoTime): $v_x = v_x^i$\n",
    "\n",
    "Since the acceleration in the $x$ direction ($a_x$) is zero, the horizontal component of velocity always remains constant during motion.  In addition to knowing this, we have one more equation.\n"
   ]
  },
  {
   "cell_type": "markdown",
   "id": "generous-country",
   "metadata": {},
   "source": [
    "## Vertical Motion\n",
    "\n",
    "Since the positive $y$ axis is directed upward, the acceleration in the vertical direction is $a_y = -g$.  This value can be substituted in the equations for constant acceleration given above (provide a hyperref?) to yield the following:\n",
    "\n",
    "From Equation [Eq_rectVel](#mjx-eqn-Eq_rectVel): $v_y = v_y^i - g t$\n",
    "\n",
    "From Equation [Eq_rectPos](#mjx-eqn-Eq_rectPos): $p_y = p_y^i + v_y^i t - \\frac{1}{2} g t^2$\n",
    "\n",
    "From Equation [Eq_rectNoTime](#mjx-eqn-Eq_rectNoTime): $v_y^2 = (v_y^i)^2 - 2 g ( p_y - p_y^i)$\n",
    "\n",
    "Recall that the last equation can be formulated on the basis of eliminating the time $t$ between the first two equations , and therefore *only two of the above three equations are independent of one another*."
   ]
  },
  {
   "cell_type": "markdown",
   "id": "commercial-stylus",
   "metadata": {},
   "source": [
    "## Summary\n",
    "\n",
    "In addition to knowing that the horizontal component of velocity is constant [Hibbler doesn't say this, but it seems necessary for completeness], problems involving the motion of a projectile can have at most three unknowns since only three independent equations can be written: that is, *one* equation in the *horizontal direction* and *two* in the *vertical direction*.  Once $v_x$ and $v_y$ are obtained, the resultant velocity $\\mathbf{v}$, which is *always tangent* to the path, is defined by the *vector sum* as shown in Figure (hyperref to above figure)."
   ]
  },
  {
   "cell_type": "markdown",
   "id": "confused-japanese",
   "metadata": {},
   "source": [
    "## Procedure for Analysis\n",
    "\n",
    "Free-flight projectile motion problems can be solved using the following procedure.\n",
    "\n",
    "### Coordinate System\n",
    "\n",
    "- Establish the fixed $x$, $y$ coordinate axes and sketch the trajectory of the particle.  Between any *two points* on the path specify the given problem data and the *three unknowns*.  In all cases the acceleration of gravity acts downward.  The particle's initial and final velocities should be represented in terms of their $x$ and $y$ components.\n",
    "- Remember that positive and negative position, velocity, and acceleration components always act in accordance with their associated coordinate directions.\n",
    "- The two points that are selected should be significant points where something about the motion of the particle is known.  Potential significant points include the initial point of launching the projectile and the final point where it lands. The landing point often has a known $y$ value.\n",
    "\n",
    "### Kinematic Equations\n",
    "\n",
    "- Depending upon the known data and what is to be determined, a choice should be made as to which three of the following four equations should be applied between the two points on the path to obtain the most direct solution to the problem.\n",
    "\n",
    "### Horizontal Motion\n",
    "\n",
    "- The *velocity* in the horizontal or $x$ direction is *constant*, i.e., $v_x = v_x^i$, and\n",
    "\n",
    "$$p_x = p_x^i + v_x^i t$$\n",
    "\n",
    "### Vertical Motion\n",
    "\n",
    "- In the vertical or $y$ direction *only two* of the following three equations can be used for solution.\n",
    "\n",
    "[Eq_rectVel](#mjx-eqn-Eq_rectVel): $v = v^i + a^c t$\n",
    "\n",
    "[Eq_rectPos](#mjx-eqn-Eq_rectPos): $p = p^i + v^i t + \\frac{1}{2} a^c t^2$\n",
    "\n",
    "[Eq_rectNoTime](#mjx-eqn-Eq_rectNoTime): $v^2 = (v^i)^2 + 2 a^c (p - p^i)$\n",
    "\n",
    "- For example, if the particle's final velocity $v_y$ is not needed, then the first and third of these questions (for $y$) will not be useful.\n",
    "\n",
    "[There are actually 5 equations (4 independent equations), but the one about velocity in the horizontal direction being constant isn't included in Hibbler's list of 4 equations.  He mentions it, but doesn't consider it a separate equation.]\n",
    "\n",
    "[The general view of projecile problems has 10 variables: $p_x, p_y, v_x, v_y, p_x^i, p_y^i, v_x^i, v_y^i, a_c, t$.  There are 4 independent equations (we don't need [Eq_rectNoTime](#mjx-eqn-Eq_rectNoTime), since it is derived from the other equations).  However, solving projectile motion problems isn't as simple as solving for 4 unknowns from 4 equations, since the equations aren't all coupled.  For instance, if there are three unknowns of $p_x, v_x^i$ and $v_x$, there is no way to solve for the unknowns, despite having 4 equations.  It doesn't seem to be an option to exhaustively go through all of the cases, since there are 10 choose 4, or 210 cases.  Some of the 210 aren't solvable.  The textbooks tend to focus on problems inspired by real engineering problems, so $a_c$ is usually set to g or 0.  Even in this case there are 9 choose 4, or 126 combinations. ]\n",
    "\n",
    "[The Drasil viewpoint of the family can be that everything up to the instance model is mostly common to all examples.  The instance model is where the specific equations are selected and rearranged to solve for the unknowns.]"
   ]
  },
  {
   "cell_type": "markdown",
   "id": "personalized-motor",
   "metadata": {},
   "source": [
    "## Example (Sack Slides Off of Ramp)\n",
    "\n",
    "A sack slides off the ramp, shown in Figure ?, with a horizontal velocity of "
   ]
  },
  {
   "cell_type": "code",
   "execution_count": 1,
   "id": "minus-exploration",
   "metadata": {},
   "outputs": [],
   "source": [
    "horiz_velo = 17 #m/s."
   ]
  },
  {
   "cell_type": "markdown",
   "id": "polar-eating",
   "metadata": {},
   "source": [
    "The height of the ramp from the floor is"
   ]
  },
  {
   "cell_type": "code",
   "execution_count": 2,
   "id": "secret-shooting",
   "metadata": {},
   "outputs": [],
   "source": [
    "height = 8 #m"
   ]
  },
  {
   "cell_type": "markdown",
   "id": "swedish-insulation",
   "metadata": {},
   "source": [
    "Determine the time needed for the sack to strike the floor and the range $R$ where sacks begin to pile up."
   ]
  },
  {
   "cell_type": "markdown",
   "id": "internal-tunisia",
   "metadata": {},
   "source": [
    "![Sack Problem](SackExample.png)"
   ]
  },
  {
   "cell_type": "markdown",
   "id": "declared-comparison",
   "metadata": {},
   "source": [
    "### Solution\n",
    "\n",
    "**Coordinate System.**  The origin of the coodinates is established at the beginning of the path, point A (Figure ?).  The initial velocity of a sack at point A has components $(v_A^i)_x$:"
   ]
  },
  {
   "cell_type": "code",
   "execution_count": 3,
   "id": "unable-trademark",
   "metadata": {},
   "outputs": [
    {
     "name": "stdout",
     "output_type": "stream",
     "text": [
      "vAxi = 17 m/s\n"
     ]
    }
   ],
   "source": [
    "vAxi = horiz_velo\n",
    "print(\"vAxi =\", vAxi, \"m/s\")"
   ]
  },
  {
   "cell_type": "markdown",
   "id": "secondary-married",
   "metadata": {},
   "source": [
    "We also know that $(v_A^i)_y$ = 0.  \n",
    "\n",
    "Between points A and B the acceleration is determined by the acceleration due to gravity g:"
   ]
  },
  {
   "cell_type": "code",
   "execution_count": 4,
   "id": "under-nevada",
   "metadata": {},
   "outputs": [
    {
     "name": "stdout",
     "output_type": "stream",
     "text": [
      "ay = -9.81 m/s^2\n"
     ]
    }
   ],
   "source": [
    "g = 9.81 #m/s^2\n",
    "ay = -g\n",
    "print(\"ay =\", ay, \"m/s^2\")"
   ]
  },
  {
   "cell_type": "markdown",
   "id": "minus-physics",
   "metadata": {},
   "source": [
    "$(v_B)_x = (v_A)_x$, since there is no acceleration in the $x$ direction.  The three unknowns are $(v_B)_y$, $R$, and the time of flight $t_{AB}$.  Here we do not need to determine $(v_B)_y$.\n",
    "\n",
    "**Vertical Motion.** The vertical distance from A to B is known, and therefore we can obtain a direct solution for $t_{AB}$ by using Equation [Eq_rectPos](#mjx-eqn-Eq_rectPos):\n",
    "\n",
    "$p_y = p_y^i + (v_A^i)_y t_{AB} + \\frac{1}{2} a_y t_{AB}^2$\n",
    "\n",
    "Since $(v_A^i)_y = 0$, \n",
    "\n",
    "$p_y = p_y^i + \\frac{1}{2} a_y t_{AB}^2$\n",
    "\n",
    "Rearranging to solve, \n",
    "\n",
    "$t_{AB} = \\sqrt{(p_y - p_y^i)/\\frac{1}{2}(a_y)}$\n",
    "\n",
    "The following code solves for $t_{AB}$."
   ]
  },
  {
   "cell_type": "code",
   "execution_count": 5,
   "id": "growing-brand",
   "metadata": {},
   "outputs": [
    {
     "name": "stdout",
     "output_type": "stream",
     "text": [
      "tAB =  1.277101713628202 s\n"
     ]
    }
   ],
   "source": [
    "import math\n",
    "py = -height\n",
    "pyi = 0\n",
    "tAB = math.sqrt((py - pyi)/(0.5*(ay)))\n",
    "print(\"tAB = \", tAB, \"s\")"
   ]
  },
  {
   "cell_type": "markdown",
   "id": "graduate-potential",
   "metadata": {},
   "source": [
    "This calculation also indicated that if a sack were released *from rest* at A, it would take the same amount of time to strike the floor at C."
   ]
  },
  {
   "cell_type": "markdown",
   "id": "numeric-bridges",
   "metadata": {},
   "source": [
    "**Horizontal Motion.** Since $t$ has been calculated, $R$ is determined from Equation [Eq_rectPos](#mjx-eqn-Eq_rectPos):\n",
    "\n",
    "$p_x = p_x^i + v_x^i t_{AB} + \\frac{1}{2} a_x t_{AB}^2$\n",
    "\n",
    "We know $p_x^i = 0$ and $a_x = 0$.  Therefore,\n",
    "\n",
    "$p_x = p_x^i + (v_A^i)_x t_{AB}$\n"
   ]
  },
  {
   "cell_type": "code",
   "execution_count": 6,
   "id": "documentary-grenada",
   "metadata": {},
   "outputs": [
    {
     "name": "stdout",
     "output_type": "stream",
     "text": [
      "px = 21.710729131679432 m\n"
     ]
    }
   ],
   "source": [
    "pxi = 0\n",
    "px = pxi + vAxi*tAB\n",
    "print(\"px =\", px, \"m\")"
   ]
  },
  {
   "cell_type": "markdown",
   "id": "endangered-finish",
   "metadata": {},
   "source": [
    "[Incorporating the results of the code into the markdown is possible by using the [python-markdown](https://github.com/ipython-contrib/jupyter_contrib_nbextensions/tree/master/src/jupyter_contrib_nbextensions/nbextensions/python-markdown)]"
   ]
  },
  {
   "cell_type": "markdown",
   "id": "exact-attendance",
   "metadata": {},
   "source": [
    "[Consider rewriting the example to put all of the knowns at the top. Make sure the notation is consistent.]"
   ]
  },
  {
   "cell_type": "code",
   "execution_count": null,
   "id": "universal-riding",
   "metadata": {},
   "outputs": [],
   "source": []
  }
 ],
 "metadata": {
  "kernelspec": {
   "display_name": "Python 3",
   "language": "python",
   "name": "python3"
  },
  "language_info": {
   "codemirror_mode": {
    "name": "ipython",
    "version": 3
   },
   "file_extension": ".py",
   "mimetype": "text/x-python",
   "name": "python",
   "nbconvert_exporter": "python",
   "pygments_lexer": "ipython3",
   "version": "3.9.1"
  },
  "latex_envs": {
   "LaTeX_envs_menu_present": false,
   "autoclose": false,
   "autocomplete": false,
   "bibliofile": "biblio.bib",
   "cite_by": "apalike",
   "current_citInitial": 1,
   "eqLabelWithNumbers": true,
   "eqNumInitial": 1,
   "hotkeys": {
    "equation": "Ctrl-E",
    "itemize": "Ctrl-I"
   },
   "labels_anchors": false,
   "latex_user_defs": false,
   "report_style_numbering": false,
   "user_envs_cfg": false
  }
 },
 "nbformat": 4,
 "nbformat_minor": 5
}
