{
 "cells": [
  {
   "cell_type": "markdown",
   "id": "wireless-active",
   "metadata": {},
   "source": [
    "# Projectile Motion Lesson by Spencer Smith"
   ]
  },
  {
   "cell_type": "markdown",
   "id": "german-removal",
   "metadata": {},
   "source": [
    "One of the first topics typically taught when students are introduced to the study of dynamics is projectile motion.  Projectile motion is a good starting point for two reasons:\n",
    "\n",
    "1. The model developed is relatively simple because it only involves kinematic quantities, not kinetics.  Kinematics focuses on the geometrics aspects of motion, while kinetics introduces the concept of forces.  \n",
    "\n",
    "2. Projectile motion has practical applications for tracking the motion of launched or thrown objects.\n",
    "\n",
    "The presentation below is based on Section 12.6 (Motion of a Projectile) from the classic Hibbler text \"Engineering Mechanics Dynamnics, 10th edition\"."
   ]
  },
  {
   "cell_type": "markdown",
   "id": "quarterly-oasis",
   "metadata": {},
   "source": [
    "# Rectilinear Kinematics: Continuous Motion (Recap)\n",
    "\n",
    "As covered previously, the equations relating velocity ($v$), position ($p$) and time ($t$) for motion in one dimension with constant acceleration ($a$) are as follows:\n",
    "\n",
    "$$v = v^i + a t \\label{Eq_rectVel}\\tag{Eq_rectVel}$$ <a name=\"Eq_rectVel\"></a> \n",
    "$$p = p^i + v^i t + \\frac{1}{2} a t^2 \\label{Eq_rectPos}\\tag{Eq_rectPos}$$ <a name=\"Eq_rectPos\"></a>\n",
    "$$v^2 = (v^i)^2 + 2 a (p - p^i) \\label{Eq_rectNoTime}\\tag{Eq_rectNoTime}$$ <a name=\"Eq_rectNoTime\"></a>\n",
    "\n",
    "where $v^i$ and $p^i$ are the initial velocity and position, respectively. \n",
    "\n",
    "Only two of these equations are independent, since the third equation can always be derived from the other two.  [Equation $\\ref{Eq_rectNoTime}$ is not in the Projectile SRS.]\n"
   ]
  },
  {
   "cell_type": "markdown",
   "id": "split-alliance",
   "metadata": {},
   "source": [
    "# 12.6 Motion of a Projectile\n",
    "\n",
    "The free flight motion of a projectile is often studied in terms of its rectangular components in the $x-y$ plane, since the projectile's acceleration *always* acts in the vertical direction.  To illustrate the kinematic analysis, consider a projectile launched at point $(p_x^i, p_y^i)$ with the initial velocity $\\mathbf{v}^i$ having components $v_x^i$ and $v_y^i$, as shown in Figure [hyperref here?].  The position vector $\\mathbf{p}$ changes over time.  At any instant of time $t$ the position is represented by the components $p_x$ and $p_y$. When air resistance is neglected, the only force acting on the projectile is its weight, which causes the projectile to have a *constant downward acceleration* of approximately $a = a_y = -g = -9.81 \\text{m}/\\text{s}^2$ or $g = 32.2 \\text{ft}/\\text{s}^2$.[^1] [footnotes don't seem to be working on my Mac?]\n",
    "\n",
    "[^1]: This assumes that the earth's gravitational field does not vary with altitude"
   ]
  },
  {
   "cell_type": "markdown",
   "id": "revolutionary-vessel",
   "metadata": {},
   "source": [
    "![Coordinate System and Definition of Symbols](CoordSystAndAssumpts.png)"
   ]
  },
  {
   "cell_type": "markdown",
   "id": "described-cancellation",
   "metadata": {},
   "source": [
    "The equations for rectilinear kinematics given above (ref) are in one dimension.  These equations can be applied for both the vertical motion and the horizontal directions, as follows:"
   ]
  },
  {
   "cell_type": "markdown",
   "id": "pressing-margin",
   "metadata": {},
   "source": [
    "## Horizontal Motion\n",
    "\n",
    "For projectile motion the acceleration in the horizontal direction is constant and equal to zero ($a_x = 0$).  This value can be substituted in the equations for constant acceleration given above (provide a hyperref?) to yield the following:\n",
    "\n",
    "From Equation [Eq_rectVel](#mjx-eqn-Eq_rectVel): $v_x = v_x^i \\label{Eq_horizVel}\\tag{Eq_horizVel}$ <a name=\"Eq_horizVel\"></a> \n",
    "\n",
    "From Equation [Eq_rectPos](#mjx-eqn-Eq_rectPos): $p_x = p_x^i + v_x^i t \\label{Eq_horizPos}\\tag{Eq_horizPos}$ <a name=\"Eq_horizPos\"></a> \n",
    "\n",
    "From Equation [Eq_rectNoTime](#mjx-eqn-Eq_rectNoTime): $v_x = v_x^i$\n",
    "\n",
    "Since the acceleration in the $x$ direction ($a_x$) is zero, the horizontal component of velocity always remains constant during motion.  In addition to knowing this, we have one more equation.\n"
   ]
  },
  {
   "cell_type": "markdown",
   "id": "finished-sussex",
   "metadata": {},
   "source": [
    "## Vertical Motion\n",
    "\n",
    "Since the positive $y$ axis is directed upward, the acceleration in the vertical direction is $a_y = -g$.  This value can be substituted in the equations for constant acceleration given above (provide a hyperref?) to yield the following:\n",
    "\n",
    "From Equation [Eq_rectVel](#mjx-eqn-Eq_rectVel): $v_y = v_y^i - g t \\label{Eq_vertVel}\\tag{Eq_vertVel}$ <a name=\"Eq_vertVel\"></a> \n",
    "\n",
    "From Equation [Eq_rectPos](#mjx-eqn-Eq_rectPos): $p_y = p_y^i + v_y^i t - \\frac{1}{2} g t^2 \\label{Eq_vertPos}\\tag{Eq_vertPos}$ <a name=\"Eq_vertPos\"></a> \n",
    "\n",
    "From Equation [Eq_rectNoTime](#mjx-eqn-Eq_rectNoTime): $v_y^2 = (v_y^i)^2 - 2 g ( p_y - p_y^i) \\label{Eq_vertNoTime}\\tag{Eq_vertNoTime}$ <a name=\"Eq_vertNotime\"></a> \n",
    "\n",
    "Recall that the last equation can be formulated on the basis of eliminating the time $t$ between the first two equations , and therefore *only two of the above three equations are independent of one another*."
   ]
  },
  {
   "cell_type": "markdown",
   "id": "sharp-marble",
   "metadata": {},
   "source": [
    "## Summary\n",
    "\n",
    "In addition to knowing that the horizontal component of velocity is constant [Hibbler doesn't say this, but it seems necessary for completeness], problems involving the motion of a projectile can have at most three unknowns since only three independent equations can be written: that is, *one* equation in the *horizontal direction* and *two* in the *vertical direction*.  Once $v_x$ and $v_y$ are obtained, the resultant velocity $\\mathbf{v}$, which is *always tangent* to the path, is defined by the *vector sum* as shown in Figure (hyperref to above figure)."
   ]
  },
  {
   "cell_type": "markdown",
   "id": "underlying-treat",
   "metadata": {},
   "source": [
    "## Procedure for Analysis\n",
    "\n",
    "Free-flight projectile motion problems can be solved using the following procedure.\n",
    "\n",
    "### Coordinate System\n",
    "\n",
    "- Establish the fixed $x$, $y$ coordinate axes and sketch the trajectory of the particle.  Between any *two points* on the path specify the given problem data and the *three unknowns*.  In all cases the acceleration of gravity acts downward.  The particle's initial and final velocities should be represented in terms of their $x$ and $y$ components.\n",
    "- Remember that positive and negative position, velocity, and acceleration components always act in accordance with their associated coordinate directions.\n",
    "- The two points that are selected should be significant points where something about the motion of the particle is known.  Potential significant points include the initial point of launching the projectile and the final point where it lands. The landing point often has a known $y$ value.\n",
    "\n",
    "### Kinematic Equations\n",
    "\n",
    "- Depending upon the known data and what is to be determined, a choice should be made as to which three of the following four equations should be applied between the two points on the path to obtain the most direct solution to the problem.\n",
    "\n",
    "### Horizontal Motion\n",
    "\n",
    "From Equation [Eq_horizVel](#mjx-eqn-Eq_horizVel): $v_x = v_x^i$ (The *velocity* in the horizontal or $x$ direction is *constant*)\n",
    "\n",
    "From Equation [Eq_horizPos](#mjx-eqn-Eq_horizPos): $p_x = p_x^i + v_x^i t$\n",
    "\n",
    "### Vertical Motion\n",
    "\n",
    "In the vertical or $y$ direction *only two* of the following three equations (using $a_y = -g$) can be used for solution.\n",
    "\n",
    "From Equation [Eq_vertVel](#mjx-eqn-Eq_vertVel): $v_y = v_y^i - g t$\n",
    "\n",
    "From Equation [Eq_vertPos](#mjx-eqn-Eq_vertPos): $p_y = p_y^i + v_y^i t - \\frac{1}{2} g t^2$\n",
    "\n",
    "From Equation [Eq_vertNoTime](#mjx-eqn-Eq_vertNoTime): $v_y^2 = (v_y^i)^2 - 2 g ( p_y - p_y^i)$\n",
    "\n",
    "For example, if the particle's final velocity $v_y$ is not needed, then the first and third of these questions (for $y$) will not be useful.\n",
    "\n",
    "[There are actually 5 equations (4 independent equations), but the one about velocity in the horizontal direction being constant isn't included in Hibbler's list of 4 equations.  He mentions it, but doesn't consider it a separate equation.]\n",
    "\n",
    "[The general view of projecile problems has 10 variables: $p_x, p_y, v_x, v_y, p_x^i, p_y^i, v_x^i, v_y^i, a, t$.  There are 4 independent equations (we don't need [Eq_rectNoTime](#mjx-eqn-Eq_rectNoTime), since it is derived from the other equations).  However, solving projectile motion problems isn't as simple as solving for 4 unknowns from 4 equations, since the equations aren't all coupled.  For instance, if there are three unknowns of $p_x, v_x^i$ and $v_x$, there is no way to solve for the unknowns, despite having 4 equations.  It doesn't seem to be an option to exhaustively go through all of the cases, since there are 10 choose 4, or 210 cases.  Some of the 210 aren't solvable.  The textbooks tend to focus on problems inspired by real engineering problems, so $a$ is usually set to g or 0.  Even in this case there are 9 choose 4, or 126 combinations. ]\n",
    "\n",
    "[The Drasil viewpoint of the family can be that everything up to the instance model is mostly common to all examples.  The instance model is where the specific equations are selected and rearranged to solve for the unknowns.]"
   ]
  },
  {
   "cell_type": "markdown",
   "id": "confident-convert",
   "metadata": {},
   "source": [
    "## Example (Sack Slides Off of Ramp)\n",
    "\n",
    "A sack slides off the ramp, shown in Figure ?.  We can ignore the physics of the sack sliding down the ramp and just focus on its exit velocity from the ramp.  There is initially no vertical component of velocity and the  horizontal velocity is:"
   ]
  },
  {
   "cell_type": "code",
   "execution_count": 4,
   "id": "billion-consideration",
   "metadata": {},
   "outputs": [],
   "source": [
    "horiz_velo = 17 #m/s."
   ]
  },
  {
   "cell_type": "markdown",
   "id": "communist-graph",
   "metadata": {},
   "source": [
    "The height of the ramp from the floor is"
   ]
  },
  {
   "cell_type": "code",
   "execution_count": 5,
   "id": "governmental-delhi",
   "metadata": {},
   "outputs": [],
   "source": [
    "height = 6 #m"
   ]
  },
  {
   "cell_type": "markdown",
   "id": "intended-usage",
   "metadata": {},
   "source": [
    "*Task:* Determine the time needed for the sack to strike the floor and the range $R$ where sacks begin to pile up."
   ]
  },
  {
   "cell_type": "markdown",
   "id": "horizontal-civilian",
   "metadata": {},
   "source": [
    "![Sack Problem](SackExample.png)"
   ]
  },
  {
   "cell_type": "markdown",
   "id": "short-cherry",
   "metadata": {},
   "source": [
    "### Solution\n",
    "\n",
    "**Coordinate System.**  The origin of the coodinates is established at the beginning of the path, point A (Figure ?).  The initial positions and velocities will be taken at Point $A$ and the final positions and velocities will be taken at Point $B$.  Therefore, in equations [Eq_horizVelo](#mjx-eqn-Eq_horizVelo), [Eq_horizPos](#mjx-eqn-Eq_horizPos), [Eq_vertVelo](#mjx-eqn-Eq_vertVelo), [Eq_vertPos](#mjx-eqn-Eq_vertPos) and [Eq_vertNoTime](#mjx-eqn-Eq_vertNoTime): \n",
    "\n",
    "$p^i_x = p^A_x, p_x = p^B_x, p^i_y = p^A_y, p_y = p^B_y, v^i_x = v^A_x, v_x = v^B_x, v^i_y = v^A_y, v_y = v^B_y$\n",
    "\n",
    "$t_{AB}$ refers to the time that passes when the particle moves from Point $A$ to Point $B$."
   ]
  },
  {
   "cell_type": "markdown",
   "id": "5e3b2c18-82a9-4ff1-b5ed-e9f56d045323",
   "metadata": {},
   "source": [
    "The initial velocity of a sack at point A has components $v^A_x$ and $v^A_y$:"
   ]
  },
  {
   "cell_type": "code",
   "execution_count": 6,
   "id": "weekly-above",
   "metadata": {},
   "outputs": [
    {
     "name": "stdout",
     "output_type": "stream",
     "text": [
      "vAx = 17 m/s\n"
     ]
    }
   ],
   "source": [
    "vAx = horiz_velo\n",
    "print(\"vAx =\", vAx, \"m/s\")"
   ]
  },
  {
   "cell_type": "markdown",
   "id": "painted-pepper",
   "metadata": {},
   "source": [
    "We also know that $v^A_y$ = 0.  \n",
    "\n",
    "Between points A and B the acceleration is determined by the acceleration due to gravity g:"
   ]
  },
  {
   "cell_type": "code",
   "execution_count": 7,
   "id": "disciplinary-motion",
   "metadata": {},
   "outputs": [
    {
     "name": "stdout",
     "output_type": "stream",
     "text": [
      "g = 9.81 m/s^2\n"
     ]
    }
   ],
   "source": [
    "g = 9.81 #m/s^2\n",
    "print(\"g =\", g, \"m/s^2\")"
   ]
  },
  {
   "cell_type": "markdown",
   "id": "super-first",
   "metadata": {},
   "source": [
    "$v^B_x = v^A_x$, since there is no acceleration in the $x$ direction.  The three unknowns are $v^B_y$, $R$, and the time of flight $t_{AB}$.  Here we do not need to determine $v^B_y$, since it is not relevant for this problem.\n",
    "\n",
    "**Vertical Motion.** The vertical distance from A to B is known, and therefore we can obtain a direct solution for $t_{AB}$ by using Equation [Eq_vertPos](#mjx-eqn-Eq_vertPos):\n",
    "\n",
    "$p^B_y = p^A_y + v^A_y t - \\frac{1}{2} g t_{AB}^2$\n",
    "\n",
    "Since $v^A_y = 0$, \n",
    "\n",
    "$p^B_y = p^A_y - \\frac{1}{2} g t_{AB}^2$\n",
    "\n",
    "Our goal is to know the value of $t_{AB}$.  We can rearrange the above equation to solve for $t_{AB}$: \n",
    "\n",
    "$t_{AB} = \\sqrt{(p^A_y - p^B_y)/\\frac{1}{2}(g)}$\n",
    "\n",
    "The following code solves for $t_{AB}$."
   ]
  },
  {
   "cell_type": "code",
   "execution_count": 8,
   "id": "exotic-twenty",
   "metadata": {},
   "outputs": [
    {
     "name": "stdout",
     "output_type": "stream",
     "text": [
      "tAB =  1.106002527218662 s\n"
     ]
    }
   ],
   "source": [
    "import math\n",
    "pBy = -height\n",
    "pAy = 0\n",
    "tAB = math.sqrt((pAy - pBy)/(0.5*(g)))\n",
    "print(\"tAB = \", tAB, \"s\")"
   ]
  },
  {
   "cell_type": "markdown",
   "id": "extensive-twelve",
   "metadata": {},
   "source": [
    "This calculation also indicated that if a sack were released *from rest* at A, it would take the same amount of time to strike the floor at C because the value of the horizontal component of velocity is not part of the equations for the vertical motion. $v^A_y = 0$ for the given problem, and the value would be the same if the sack were at rest to begin the analysis."
   ]
  },
  {
   "cell_type": "markdown",
   "id": "heard-system",
   "metadata": {},
   "source": [
    "**Horizontal Motion.** Since $t$ has been calculated, $R$ is determined from Equation [Eq_horizPos](#mjx-eqn-Eq_horizPos).  $R$ is equal to $p^B_x$:\n",
    "\n",
    "$R = p^B_x = p^A_x + v^A_x t_{AB}$\n",
    "\n",
    "We know $p^A_x = 0$.  Therefore,\n",
    "\n",
    "$R = p^B_x = p^A_x + v^A_x t_{AB}$\n"
   ]
  },
  {
   "cell_type": "code",
   "execution_count": 9,
   "id": "creative-engine",
   "metadata": {},
   "outputs": [
    {
     "name": "stdout",
     "output_type": "stream",
     "text": [
      "R = 18.802042962717255 m\n"
     ]
    }
   ],
   "source": [
    "pAx = 0\n",
    "pBx = pAx + vAx*tAB\n",
    "print(\"R =\", pBx, \"m\")"
   ]
  },
  {
   "cell_type": "markdown",
   "id": "resistant-advocate",
   "metadata": {},
   "source": [
    "[Incorporating the results of the code into the markdown is possible by using the [python-markdown](https://github.com/ipython-contrib/jupyter_contrib_nbextensions/tree/master/src/jupyter_contrib_nbextensions/nbextensions/python-markdown)]"
   ]
  },
  {
   "cell_type": "markdown",
   "id": "executed-substance",
   "metadata": {},
   "source": [
    "[Consider rewriting the example to put all of the knowns at the top. Make sure the notation is consistent.]"
   ]
  },
  {
   "cell_type": "markdown",
   "id": "4662842a-dc65-4bd8-97e9-8dc446ea1b6c",
   "metadata": {},
   "source": [
    "**Kinematic Quantity Symbols Used For Modelling Projectile Motion and Sack Example**\n",
    "\n",
    "| Position | Velocity | Acceleration |\n",
    "| --- | --- | --- |\n",
    "| p (pos in 1D) | v (velo in 1D) | a (accel in 1D) |\n",
    "| $\\mathbf{p}$ (pos vector) | $\\mathbf{v}$ (velo vector) | $\\mathbf{a}$ (accel vector) |\n",
    "| $\\mathbf{p}^i$ (init pos vector (not used)) | $\\mathbf{v}^i$ (init velo vector) | NA |\n",
    "| $p_x$ (pos x comp) | $v_x$ (velo x comp) | $a_x$ (accel x comp) |\n",
    "| $p_y$ (pos y comp) | $v_y$ (velo y comp) | $a_y$ (accel y comp) |\n",
    "| $p_x^i$ (init pos x comp) | $v_x^i$ (init velo x comp) | NA |\n",
    "| $p_y^i$ (init pos y comp) | $v_y^i$ (init velo y comp) | NA |\n",
    "| $p_x^A$ (Point A pos x comp) | $v_x^A$ (Point A velo x comp) | NA |\n",
    "| $p_y^A$ (Point A pos y comp) | $v_y^A$ (Point A velo y comp) | NA |\n",
    "| $p_x^B$ (Point B pos x comp) | $v_x^B$ (Point B velo x comp) | NA |\n",
    "| $p_y^B$ (Point B pos y comp) | $v_y^B$ (Point B velo y comp) | NA |\n",
    "\n"
   ]
  },
  {
   "cell_type": "markdown",
   "id": "83b750f6-134d-43fa-97eb-781c4e28928b",
   "metadata": {},
   "source": [
    "**Other Symbols Used For Modelling Projectile Motion and Sack Example**\n",
    "\n",
    "| Symbol | \n",
    "| --- | \n",
    "| t (time) | \n",
    "| x (x-axis in Cartesian plane) |\n",
    "| y (y-axis in Cartesian plane) |\n",
    "| g (acceleration due to gravity) |\n"
   ]
  },
  {
   "cell_type": "markdown",
   "id": "9d419ef9-1e55-486b-9310-648f4d8b532e",
   "metadata": {},
   "source": [
    "**Symbols Used Only For Sack Example**\n",
    "\n",
    "| Symbol | \n",
    "| --- | \n",
    "| horiz_velo (horizontal velocity of sack when launched (at A)) | \n",
    "| height (height of the sack when launched (distance between A and C)  |\n",
    "| R (Vertical distance covered by sack at instant when it lands at B) |\n",
    "| A (Location where sack is launched) |\n",
    "| B (Location where sack lands) |\n",
    "| C (Location of ground directly below where sack is launched) |\n",
    "| $t_{AB}$ (time elapsed from launch at A to landing at B) |"
   ]
  },
  {
   "cell_type": "markdown",
   "id": "0afd32fe-5619-4839-850a-1c23fef5d0f7",
   "metadata": {},
   "source": [
    "**Traceability Between Symbols in the Model and Code for Sack Example**\n",
    "\n",
    "The symbols are presented in the order that they are used in the code.\n",
    "\n",
    "| Code Symbol | Model Symbol |\n",
    "| ------------| ----------- |\n",
    "| horiz_velo | horiz_velo |\n",
    "| height | height |\n",
    "| vAx | $v^A_x$ |\n",
    "| g | $g$ |\n",
    "| pBy | $p^B_y$  |\n",
    "| pAy | $p^A_y$ |\n",
    "| tAB | $t_{AB}$ |\n",
    "| pAx | $p^A_x$ |\n",
    "| pBx | $p^B_x$ |\n",
    "\n",
    "\n"
   ]
  },
  {
   "cell_type": "code",
   "execution_count": null,
   "id": "f2e06ece-7eae-466d-8b50-26ae37bcfef5",
   "metadata": {},
   "outputs": [],
   "source": []
  }
 ],
 "metadata": {
  "kernelspec": {
   "display_name": "Python 3",
   "language": "python",
   "name": "python3"
  },
  "language_info": {
   "codemirror_mode": {
    "name": "ipython",
    "version": 3
   },
   "file_extension": ".py",
   "mimetype": "text/x-python",
   "name": "python",
   "nbconvert_exporter": "python",
   "pygments_lexer": "ipython3",
   "version": "3.9.6"
  },
  "latex_envs": {
   "LaTeX_envs_menu_present": false,
   "autoclose": false,
   "autocomplete": false,
   "bibliofile": "biblio.bib",
   "cite_by": "apalike",
   "current_citInitial": 1,
   "eqLabelWithNumbers": true,
   "eqNumInitial": 1,
   "hotkeys": {
    "equation": "Ctrl-E",
    "itemize": "Ctrl-I"
   },
   "labels_anchors": false,
   "latex_user_defs": false,
   "report_style_numbering": false,
   "user_envs_cfg": false
  }
 },
 "nbformat": 4,
 "nbformat_minor": 5
}
